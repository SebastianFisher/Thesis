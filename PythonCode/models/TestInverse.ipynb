{
 "cells": [
  {
   "cell_type": "code",
   "execution_count": 19,
   "id": "18c9ad56-62d5-46c5-bc32-23581d10dcd9",
   "metadata": {
    "scrolled": true
   },
   "outputs": [
    {
     "data": {
      "text/plain": [
       "ReverseNN(\n",
       "  (linear_relu_stack): Sequential(\n",
       "    (0): Linear(in_features=10, out_features=1024, bias=True)\n",
       "    (1): ReLU()\n",
       "    (2): Linear(in_features=1024, out_features=1024, bias=True)\n",
       "    (3): ReLU()\n",
       "    (4): Linear(in_features=1024, out_features=1024, bias=True)\n",
       "    (5): ReLU()\n",
       "    (6): Linear(in_features=1024, out_features=1024, bias=True)\n",
       "    (7): ReLU()\n",
       "    (8): Linear(in_features=1024, out_features=784, bias=True)\n",
       "  )\n",
       ")"
      ]
     },
     "execution_count": 19,
     "metadata": {},
     "output_type": "execute_result"
    }
   ],
   "source": [
    "from InverseNeuralNet import ReverseNN\n",
    "import matplotlib.pyplot as plt\n",
    "import torch\n",
    "\n",
    "MODELS_PATH = \"./saved/\"\n",
    "\n",
    "device = (\n",
    "    \"cuda\" \n",
    "    if torch.cuda.is_available()\n",
    "    else \"cpu\"\n",
    ")\n",
    "\n",
    "# Load reverse network first, \n",
    "reverse_model = ReverseNN()\n",
    "reverse_model.load_state_dict(torch.load(MODELS_PATH + \"MNISTInverseNet\", map_location=torch.device('cpu')))\n",
    "reverse_model.eval()\n"
   ]
  },
  {
   "cell_type": "code",
   "execution_count": 24,
   "id": "ba44e2bb-b7e9-419d-a40a-7512af275e39",
   "metadata": {},
   "outputs": [
    {
     "data": {
      "text/plain": [
       "<matplotlib.image.AxesImage at 0x15538b57e210>"
      ]
     },
     "execution_count": 24,
     "metadata": {},
     "output_type": "execute_result"
    },
    {
     "data": {
      "image/png": "[encoded data removed]",
      "text/plain": [
       "<Figure size 640x480 with 1 Axes>"
      ]
     },
     "metadata": {},
     "output_type": "display_data"
    }
   ],
   "source": [
    "# Try to generate a handwritten digit\n",
    "\n",
    "# digit = 9\n",
    "# test_9 = torch.reshape(reverse_model(torch.tensor([1 if i == digit else 0 for i in range(10)], dtype=torch.float32)), [28,28])\n",
    "\n",
    "\n",
    "# img2 = test_9.detach().numpy()\n",
    "\n",
    "digit = 5\n",
    "test_digit = torch.reshape(reverse_model(torch.tensor([1 if i == digit else 0 for i in range(10)], dtype=torch.float32)), [28,28])\n",
    "img = test_digit.detach().numpy()\n",
    "\n",
    "\n",
    "plt.subplot(1, 2, 1)\n",
    "plt.imshow(img, cmap=\"gray\")\n",
    "# plt.subplot(1, 2, 2)\n",
    "# plt.imshow(img2, cmap=\"gray\")"
   ]
  },
  {
   "cell_type": "code",
   "execution_count": 21,
   "id": "8b85f07c-862e-4871-88cc-a1930b4a68e3",
   "metadata": {},
   "outputs": [
    {
     "data": {
      "text/plain": [
       "<All keys matched successfully>"
      ]
     },
     "execution_count": 21,
     "metadata": {},
     "output_type": "execute_result"
    }
   ],
   "source": [
    "# LOAD FORWARD MODEL\n",
    "\n",
    "from torchvision import models\n",
    "import torch.nn as nn\n",
    "\n",
    "model = models.resnet50(pretrained=True)\n",
    "def change_layers(model):\n",
    "    model.conv1 = nn.Conv2d(1, 64, kernel_size=(7, 7), stride=(2, 2), padding=(3, 3), bias=False)\n",
    "    model.fc = nn.Linear(2048, 10, bias=True)\n",
    "    return model\n",
    "\n",
    "# change to take in new input\n",
    "model = change_layers(model)\n",
    "model.load_state_dict(torch.load(MODELS_PATH + \"MNISTConvNet\"))"
   ]
  },
  {
   "cell_type": "code",
   "execution_count": 25,
   "id": "ee054c5a-44e1-420d-a2ae-0a2b6f63d359",
   "metadata": {},
   "outputs": [
    {
     "name": "stdout",
     "output_type": "stream",
     "text": [
      "tensor([[-2.9732, -1.7036, -6.6209,  1.3210, -4.7838, 17.0859, -0.8995, -2.6424,\n",
      "          1.8111, -1.5475]], grad_fn=<AddmmBackward0>)\n",
      "[0, 0, 0, 0, 0, 1, 0, 0, 0, 0]\n"
     ]
    }
   ],
   "source": [
    "# Make predictions with forward model\n",
    "test_digit_new = test_digit.unsqueeze(0).unsqueeze(0)\n",
    "model.eval()\n",
    "print(model(test_digit_new))\n",
    "print([1 if i == digit else 0 for i in range(10)])"
   ]
  },
  {
   "cell_type": "code",
   "execution_count": null,
   "id": "3b70fbfe-814e-42f7-b0db-ec6c60a72f65",
   "metadata": {},
   "outputs": [],
   "source": []
  }
 ],
 "metadata": {
  "kernelspec": {
   "display_name": "Python 3 (ipykernel)",
   "language": "python",
   "name": "python3"
  },
  "language_info": {
   "codemirror_mode": {
    "name": "ipython",
    "version": 3
   },
   "file_extension": ".py",
   "mimetype": "text/x-python",
   "name": "python",
   "nbconvert_exporter": "python",
   "pygments_lexer": "ipython3",
   "version": "3.12.0"
  }
 },
 "nbformat": 4,
 "nbformat_minor": 5
}
