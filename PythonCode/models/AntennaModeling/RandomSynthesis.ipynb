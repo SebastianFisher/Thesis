{
 "cells": [
  {
   "cell_type": "code",
   "execution_count": null,
   "id": "9f2904fc-f679-400c-9834-7cd96e693904",
   "metadata": {},
   "outputs": [],
   "source": [
    "# THIS NOTEBOOK IS FOR ATTEMPTED SYNTHESIS BY GENERATING RANDOM \n",
    "# STRUCTURES AND PICKING THE BEST ONE\n",
    "\n",
    "import torch\n",
    "from AntennaInverseNetwork import AntennaInverseNN\n",
    "from AntennaNetwork import AntennaCNN\n",
    "\n",
    "MODELS_PATH = \"./saved/\"\n",
    "\n",
    "device = (\n",
    "    \"cuda\"\n",
    "    if torch.cuda.is_available()\n",
    "    else \"mps\"\n",
    "    if torch.backends.mps.is_available()\n",
    "    else \"cpu\"\n",
    ")\n",
    "\n",
    "# model = AntennaInverseNN()\n",
    "# model.eval()\n",
    "# model.load_state_dict(torch.load(MODELS_PATH + \"AntennaInverseNN\", map_location=torch.device(device)))\n",
    "\n",
    "surr = AntennaCNN()\n",
    "surr.eval()\n",
    "surr.load_state_dict(torch.load(MODELS_PATH + \"AntennaCNN\", map_location=torch.device(device)))"
   ]
  },
  {
   "cell_type": "code",
   "execution_count": null,
   "id": "8ce6284e-ecae-4916-8609-08a46edf8874",
   "metadata": {},
   "outputs": [],
   "source": []
  },
  {
   "cell_type": "code",
   "execution_count": null,
   "id": "1bf64f35-9616-4c68-826b-9ccaa312d906",
   "metadata": {},
   "outputs": [],
   "source": [
    "# import numpy as np\n",
    "\n",
    "# DATA_PATH = \"./data/\"\n",
    "# # Create datasets for training the inverse model. \n",
    "# # Use the training dataset from forward network\n",
    "# x_train_path = DATA_PATH + \"x_train.npy\"\n",
    "# y_train_path = DATA_PATH + \"y_train.npy\"\n",
    "\n",
    "# x_test_path = DATA_PATH + \"x_test.npy\"\n",
    "# y_test_path = DATA_PATH + \"y_test.npy\"\n",
    "\n",
    "# x_test = torch.tensor(np.load(x_test_path))\n",
    "# y_test = torch.tensor(np.load(y_test_path))"
   ]
  },
  {
   "cell_type": "code",
   "execution_count": null,
   "id": "8b727acf-c423-4b09-9d81-81345bc1bd5b",
   "metadata": {},
   "outputs": [],
   "source": []
  }
 ],
 "metadata": {
  "kernelspec": {
   "display_name": "Python 3 (ipykernel)",
   "language": "python",
   "name": "python3"
  },
  "language_info": {
   "codemirror_mode": {
    "name": "ipython",
    "version": 3
   },
   "file_extension": ".py",
   "mimetype": "text/x-python",
   "name": "python",
   "nbconvert_exporter": "python",
   "pygments_lexer": "ipython3",
   "version": "3.12.0"
  }
 },
 "nbformat": 4,
 "nbformat_minor": 5
}
