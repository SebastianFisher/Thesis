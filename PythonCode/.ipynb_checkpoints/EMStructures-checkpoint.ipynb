{
 "cells": [
  {
   "cell_type": "code",
   "execution_count": 1,
   "id": "504fb9d8-8bbf-4fe7-8d36-9688c3ece0d7",
   "metadata": {},
   "outputs": [],
   "source": [
    "from EMXSimulator import EMXSimulator as sim"
   ]
  },
  {
   "cell_type": "markdown",
   "id": "eaca8a3b-9e2d-408c-83f4-9f0ea238851b",
   "metadata": {},
   "source": [
    "# Instructions\n",
    "\n",
    "### Before Running code below, follow these steps\n",
    "\n",
    "\n"
   ]
  },
  {
   "cell_type": "markdown",
   "id": "576e3675-a5b5-406d-8eb0-02c6d483c160",
   "metadata": {},
   "source": [
    "#### First Step, creates simulator object"
   ]
  },
  {
   "cell_type": "code",
   "execution_count": 2,
   "id": "c414fb58-8c6c-4af8-a322-90e0a0543243",
   "metadata": {},
   "outputs": [],
   "source": [
    "# Create a simulator object\n",
    "Simulator = sim(\"server-1\")"
   ]
  },
  {
   "cell_type": "markdown",
   "id": "21d24cec-33a5-45cc-ad63-7c32329af379",
   "metadata": {},
   "source": [
    "#### Second Step, creates random 16x16 object in Cadence Layout window\n"
   ]
  },
  {
   "cell_type": "code",
   "execution_count": 3,
   "id": "29e46cad-ec5c-484c-8bd4-de7a65231e80",
   "metadata": {},
   "outputs": [],
   "source": [
    "# Create Random 16x16 structure\n",
    "# Simulator.delete_structure()\n",
    "Simulator.create_random_structure()\n"
   ]
  },
  {
   "cell_type": "code",
   "execution_count": 4,
   "id": "9c2262ff-a85d-4057-9970-07b2ad43ee29",
   "metadata": {},
   "outputs": [],
   "source": [
    "Simulator.create_pins()"
   ]
  },
  {
   "cell_type": "markdown",
   "id": "e70cea4e-0c19-4780-9184-a176efb0f2d0",
   "metadata": {},
   "source": [
    "### IMPORTANT:\n",
    "Before the following code, navigate to the layout window in Cadence, and open the EMX gui.\n",
    "Select the desired settings before continuing. Also, define a custom function in cadence for closing the\n",
    "dialog box in extract s params:\n",
    "\n",
    "procedure(CloseBox()\n",
    "hiDBoxOK(EMX_dialog_box)\n",
    ");\n",
    "\n",
    "\n",
    "EMX:\n",
    "Process: 9HP_2023_Process/422OLLD.proc\n",
    "\n",
    "Black Box Cells: if you were to have transistors/other blocks around that you can\u0019t simulate\n",
    "\n",
    "Accuracy options:\n",
    "\t- divides the design into finite elements\n",
    "\t\t1, 1, 0.5, *\n",
    "\t\tfor these options\n",
    "Ports:\n",
    "\tsignals: *\n",
    "\n",
    "Start:\n",
    "\t30e9\n",
    "Stop\n",
    "\t100e9\n",
    "Step\n",
    "\t1e9\n",
    "\n",
    "Advanced Options:\n",
    "\t- make Label depth = 0 \n",
    "\t- cadence pins checked\n"
   ]
  },
  {
   "cell_type": "code",
   "execution_count": 11,
   "id": "19226e95-e729-43d1-aecf-fc4f0f86517d",
   "metadata": {},
   "outputs": [],
   "source": [
    "Simulator.run_emx()"
   ]
  },
  {
   "cell_type": "code",
   "execution_count": 15,
   "id": "db0d28c5-168c-4f22-b229-cb0263ecc6de",
   "metadata": {},
   "outputs": [
    {
     "name": "stderr",
     "output_type": "stream",
     "text": [
      "Exception in thread Thread-5:\n",
      "Traceback (most recent call last):\n",
      "  File \"/home/sbfisher/.conda/envs/CadenceEnv/lib/python3.12/threading.py\", line 1052, in _bootstrap_inner\n",
      "    self.run()\n",
      "  File \"/home/sbfisher/.conda/envs/CadenceEnv/lib/python3.12/threading.py\", line 989, in run\n",
      "    self._target(*self._args, **self._kwargs)\n",
      "  File \"/home/sbfisher/.conda/envs/CadenceEnv/lib/python3.12/site-packages/skillbridge/client/functions.py\", line 42, in __call__\n",
      "    result = self._channel.send(command)\n",
      "             ^^^^^^^^^^^^^^^^^^^^^^^^^^^\n",
      "  File \"/home/sbfisher/.conda/envs/CadenceEnv/lib/python3.12/site-packages/skillbridge/client/channel.py\", line 158, in send\n",
      "    return self._receive_only()\n",
      "           ^^^^^^^^^^^^^^^^^^^^\n",
      "  File \"/home/sbfisher/.conda/envs/CadenceEnv/lib/python3.12/site-packages/skillbridge/client/channel.py\", line 151, in _receive_only\n",
      "    received_length = int(received_length_raw)\n",
      "                      ^^^^^^^^^^^^^^^^^^^^^^^^\n",
      "ValueError: invalid literal for int() with base 10: b'success wa'\n"
     ]
    },
    {
     "ename": "SyntaxError",
     "evalue": "invalid syntax (<string>, line 1)",
     "output_type": "error",
     "traceback": [
      "Traceback \u001b[0;36m(most recent call last)\u001b[0m:\n",
      "\u001b[0m  File \u001b[1;32m~/.conda/envs/CadenceEnv/lib/python3.12/site-packages/IPython/core/interactiveshell.py:3548\u001b[0m in \u001b[1;35mrun_code\u001b[0m\n    exec(code_obj, self.user_global_ns, self.user_ns)\u001b[0m\n",
      "\u001b[0m  Cell \u001b[1;32mIn[15], line 8\u001b[0m\n    Simulator.ws['CloseBox']()\u001b[0m\n",
      "\u001b[0m  File \u001b[1;32m~/.conda/envs/CadenceEnv/lib/python3.12/site-packages/skillbridge/client/functions.py:44\u001b[0m in \u001b[1;35m__call__\u001b[0m\n    return self._translate.decode(result)\u001b[0m\n",
      "\u001b[0m  File \u001b[1;32m~/.conda/envs/CadenceEnv/lib/python3.12/site-packages/skillbridge/client/translator.py:215\u001b[0m in \u001b[1;35mdecode\u001b[0m\n    return _skill_value_to_python(code, self.context)\u001b[0m\n",
      "\u001b[0;36m  File \u001b[0;32m~/.conda/envs/CadenceEnv/lib/python3.12/site-packages/skillbridge/client/translator.py:37\u001b[0;36m in \u001b[0;35m_skill_value_to_python\u001b[0;36m\n\u001b[0;31m    return eval(  # type: ignore[no-any-return]  # noqa: S307,PGH001\u001b[0;36m\n",
      "\u001b[0;36m  File \u001b[0;32m<string>:1\u001b[0;36m\u001b[0m\n\u001b[0;31m    (DB-270212): dbOpenCellViewByType: Cannot open cellview 'Thesis/test/symbol' in 'r' mode because the cellview does not exist. Ensure that the cellview exists and then reopen it in 'r' mode.\\n\", None)\u001b[0m\n\u001b[0m               ^\u001b[0m\n\u001b[0;31mSyntaxError\u001b[0m\u001b[0;31m:\u001b[0m invalid syntax\n"
     ]
    }
   ],
   "source": [
    "# Simulator.extract_sparams()\n",
    "import threading\n",
    "import time\n",
    "\n",
    "t1 = threading.Thread(group=None, target=Simulator.ws[\"EMX_sparam_view\"])\n",
    "t1.start()\n",
    "time.sleep(0.5)\n",
    "Simulator.ws['CloseBox']()\n",
    "# Simulator.ws[\"EMX_sparam_view\"]()\n",
    "# Simulator.ws[\"CloseBox\"]()"
   ]
  },
  {
   "cell_type": "code",
   "execution_count": 31,
   "id": "333b2ec5-5095-4f17-92da-812eafa4d6c5",
   "metadata": {},
   "outputs": [],
   "source": [
    "Simulator.ws['CloseBox']()"
   ]
  },
  {
   "cell_type": "code",
   "execution_count": 37,
   "id": "614a6c13-1bc0-442e-9da7-9cd7f1babae4",
   "metadata": {},
   "outputs": [
    {
     "data": {
      "text/plain": [
       "<skillbridge.client.workspace.Workspace at 0x14d9bdb32420>"
      ]
     },
     "execution_count": 37,
     "metadata": {},
     "output_type": "execute_result"
    }
   ],
   "source": [
    "Simulator.ws"
   ]
  },
  {
   "cell_type": "code",
   "execution_count": null,
   "id": "2a38b53f-d860-4b4c-996c-ccbdcd60f06c",
   "metadata": {},
   "outputs": [],
   "source": []
  },
  {
   "cell_type": "code",
   "execution_count": null,
   "id": "084c6d7d-1a89-4855-8888-1a90285c4cbd",
   "metadata": {},
   "outputs": [],
   "source": []
  }
 ],
 "metadata": {
  "kernelspec": {
   "display_name": "Python 3 (ipykernel)",
   "language": "python",
   "name": "python3"
  },
  "language_info": {
   "codemirror_mode": {
    "name": "ipython",
    "version": 3
   },
   "file_extension": ".py",
   "mimetype": "text/x-python",
   "name": "python",
   "nbconvert_exporter": "python",
   "pygments_lexer": "ipython3",
   "version": "3.12.0"
  }
 },
 "nbformat": 4,
 "nbformat_minor": 5
}
