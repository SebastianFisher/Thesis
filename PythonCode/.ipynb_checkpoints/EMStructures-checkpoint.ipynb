{
 "cells": [
  {
   "cell_type": "code",
   "execution_count": 1,
   "id": "504fb9d8-8bbf-4fe7-8d36-9688c3ece0d7",
   "metadata": {},
   "outputs": [],
   "source": [
    "from EMXSimulator import EMXSimulator as sim"
   ]
  },
  {
   "cell_type": "markdown",
   "id": "eaca8a3b-9e2d-408c-83f4-9f0ea238851b",
   "metadata": {},
   "source": [
    "# Instructions\n",
    "\n",
    "### Before Running code below, follow these steps\n",
    "\n",
    "\n"
   ]
  },
  {
   "cell_type": "markdown",
   "id": "576e3675-a5b5-406d-8eb0-02c6d483c160",
   "metadata": {},
   "source": [
    "#### First Step, creates simulator object"
   ]
  },
  {
   "cell_type": "code",
   "execution_count": 2,
   "id": "c414fb58-8c6c-4af8-a322-90e0a0543243",
   "metadata": {},
   "outputs": [],
   "source": [
    "# Create a simulator object\n",
    "Simulator = sim(\"server-1\")"
   ]
  },
  {
   "cell_type": "markdown",
   "id": "21d24cec-33a5-45cc-ad63-7c32329af379",
   "metadata": {},
   "source": [
    "#### Second Step, creates random 16x16 object in Cadence Layout window\n"
   ]
  },
  {
   "cell_type": "code",
   "execution_count": 3,
   "id": "29e46cad-ec5c-484c-8bd4-de7a65231e80",
   "metadata": {},
   "outputs": [],
   "source": [
    "# Create Random 16x16 structure\n",
    "# Simulator.delete_structure()\n",
    "Simulator.create_random_structure()\n"
   ]
  },
  {
   "cell_type": "code",
   "execution_count": 4,
   "id": "9c2262ff-a85d-4057-9970-07b2ad43ee29",
   "metadata": {},
   "outputs": [
    {
     "name": "stdout",
     "output_type": "stream",
     "text": [
      "True\n",
      "[[0, 0, 0, 0, 0, 0, 0, 0, 1, 0, 0, 0, 0, 0, 0, 0, 0, 0], [0, 1, 0, 0, 0, 1, 1, 1, 0, 0, 0, 0, 1, 0, 1, 0, 0, 0], [0, 0, 1, 1, 1, 0, 1, 0, 0, 0, 1, 1, 1, 1, 1, 1, 1, 0], [0, 1, 1, 0, 1, 0, 1, 1, 0, 1, 1, 0, 1, 0, 0, 1, 1, 0], [0, 1, 0, 1, 1, 1, 0, 0, 0, 1, 1, 0, 0, 1, 1, 1, 0, 0], [0, 1, 0, 0, 0, 0, 0, 1, 1, 0, 1, 1, 0, 1, 1, 1, 0, 0], [0, 1, 0, 1, 1, 1, 1, 1, 0, 0, 0, 1, 0, 0, 1, 0, 1, 0], [0, 1, 0, 0, 0, 0, 1, 0, 1, 0, 0, 1, 1, 0, 1, 0, 0, 0], [1, 0, 0, 0, 0, 0, 1, 0, 0, 0, 0, 0, 0, 0, 0, 0, 0, 1], [0, 1, 1, 0, 0, 0, 0, 1, 0, 0, 1, 0, 0, 1, 0, 0, 1, 0], [0, 0, 1, 0, 0, 0, 0, 0, 0, 0, 0, 1, 0, 1, 1, 0, 0, 0], [0, 0, 1, 0, 0, 1, 1, 0, 0, 1, 0, 1, 1, 1, 1, 0, 1, 0], [0, 0, 0, 0, 0, 0, 0, 1, 1, 1, 0, 1, 0, 1, 0, 0, 1, 0], [0, 1, 1, 0, 1, 0, 1, 1, 1, 1, 0, 0, 1, 0, 0, 0, 0, 0], [0, 0, 1, 0, 1, 0, 1, 1, 1, 0, 1, 1, 1, 1, 1, 0, 1, 0], [0, 0, 0, 0, 1, 0, 1, 1, 0, 0, 1, 1, 1, 1, 1, 1, 1, 0], [0, 1, 0, 1, 0, 0, 1, 0, 1, 0, 1, 1, 0, 0, 0, 1, 0, 0], [0, 0, 0, 0, 0, 0, 0, 0, 1, 0, 0, 0, 0, 0, 0, 0, 0, 0]]\n"
     ]
    }
   ],
   "source": [
    "Simulator.create_pins()"
   ]
  },
  {
   "cell_type": "markdown",
   "id": "e70cea4e-0c19-4780-9184-a176efb0f2d0",
   "metadata": {},
   "source": [
    "### IMPORTANT:\n",
    "Before the following code, navigate to the layout window in Cadence, and open the EMX gui.\n",
    "Select the desired settings before continuing. Also, define a custom function in cadence for closing the\n",
    "dialog box in extract s params:\n",
    "\n",
    "procedure(CloseBox()\n",
    "hiDBoxOK(EMX_dialog_box)\n",
    ");\n",
    "\n",
    "\n",
    "EMX:\n",
    "Process: 9HP_2023_Process/422OLLD.proc\n",
    "\n",
    "Black Box Cells: if you were to have transistors/other blocks around that you can\u0019t simulate\n",
    "\n",
    "Accuracy options:\n",
    "\t- divides the design into finite elements\n",
    "\t\t1, 1, 0.5, *\n",
    "\t\tfor these options\n",
    "Ports:\n",
    "\tsignals: LEFT RIGHT BOTTOM TOP LEFT_m RIGHT_m BOTTOM_m TOP_m\n",
    "\n",
    "Start:\n",
    "\t30e9\n",
    "Stop\n",
    "\t100e9\n",
    "Step\n",
    "\t1e9\n",
    "\n",
    "Advanced Options:\n",
    "\t- make Label depth = 0 \n",
    "\t- cadence pins checked\n",
    "\n"
   ]
  },
  {
   "cell_type": "code",
   "execution_count": 17,
   "id": "44c78fbc-d29c-431f-b49b-130ddcb5d371",
   "metadata": {},
   "outputs": [
    {
     "name": "stdout",
     "output_type": "stream",
     "text": [
      "Starting Simulation #382. \n",
      "11:49:36\n"
     ]
    },
    {
     "name": "stderr",
     "output_type": "stream",
     "text": [
      "Skill response:0: UserWarning:  Window 822 does not exist\n"
     ]
    },
    {
     "ename": "RuntimeError",
     "evalue": "(\"hiCloseWindow\" 0 t nil (\"*Error* hiCloseWindow: argument #1 should be a window type (type template = \\\"w\\\")\" nil))\n",
     "output_type": "error",
     "traceback": [
      "\u001b[0;31m---------------------------------------------------------------------------\u001b[0m",
      "\u001b[0;31mRuntimeError\u001b[0m                              Traceback (most recent call last)",
      "Cell \u001b[0;32mIn[17], line 52\u001b[0m\n\u001b[1;32m     49\u001b[0m Simulator\u001b[38;5;241m.\u001b[39mcreate_random_structure()\n\u001b[1;32m     51\u001b[0m \u001b[38;5;66;03m# Close EMX sim window\u001b[39;00m\n\u001b[0;32m---> 52\u001b[0m \u001b[43mSimulator\u001b[49m\u001b[38;5;241;43m.\u001b[39;49m\u001b[43mclose_window\u001b[49m\u001b[43m(\u001b[49m\u001b[43mEMX_WINDOW_NUMBER\u001b[49m\u001b[38;5;241;43m+\u001b[39;49m\u001b[43mi\u001b[49m\u001b[43m)\u001b[49m\n\u001b[1;32m     55\u001b[0m \u001b[38;5;66;03m# Figure out which window number you are currently on for this\u001b[39;00m\n\u001b[1;32m     56\u001b[0m \u001b[38;5;28mprint\u001b[39m(\u001b[38;5;124m\"\u001b[39m\u001b[38;5;124mCompleted Simulation #\u001b[39m\u001b[38;5;132;01m{}\u001b[39;00m\u001b[38;5;124m\"\u001b[39m\u001b[38;5;241m.\u001b[39mformat(i))\n",
      "File \u001b[0;32m~/Cadence/Thesis/PythonCode/EMXSimulator.py:152\u001b[0m, in \u001b[0;36mEMXSimulator.close_window\u001b[0;34m(self, window_num)\u001b[0m\n\u001b[1;32m    150\u001b[0m \u001b[38;5;28;01mdef\u001b[39;00m \u001b[38;5;21mclose_window\u001b[39m(\u001b[38;5;28mself\u001b[39m, window_num):\n\u001b[1;32m    151\u001b[0m     window \u001b[38;5;241m=\u001b[39m \u001b[38;5;28mself\u001b[39m\u001b[38;5;241m.\u001b[39mws[\u001b[38;5;124m\"\u001b[39m\u001b[38;5;124mwindow\u001b[39m\u001b[38;5;124m\"\u001b[39m](window_num)\n\u001b[0;32m--> 152\u001b[0m     \u001b[38;5;28;43mself\u001b[39;49m\u001b[38;5;241;43m.\u001b[39;49m\u001b[43mws\u001b[49m\u001b[38;5;241;43m.\u001b[39;49m\u001b[43mhi\u001b[49m\u001b[38;5;241;43m.\u001b[39;49m\u001b[43mclose_window\u001b[49m\u001b[43m(\u001b[49m\u001b[43mwindow\u001b[49m\u001b[43m)\u001b[49m\n",
      "File \u001b[0;32m~/.conda/envs/CadenceEnv/lib/python3.12/site-packages/skillbridge/client/functions.py:42\u001b[0m, in \u001b[0;36mRemoteFunction.__call__\u001b[0;34m(self, *args, **kwargs)\u001b[0m\n\u001b[1;32m     40\u001b[0m \u001b[38;5;28;01mdef\u001b[39;00m \u001b[38;5;21m__call__\u001b[39m(\u001b[38;5;28mself\u001b[39m, \u001b[38;5;241m*\u001b[39margs: Skill, \u001b[38;5;241m*\u001b[39m\u001b[38;5;241m*\u001b[39mkwargs: Skill) \u001b[38;5;241m-\u001b[39m\u001b[38;5;241m>\u001b[39m Skill:\n\u001b[1;32m     41\u001b[0m     command \u001b[38;5;241m=\u001b[39m \u001b[38;5;28mself\u001b[39m\u001b[38;5;241m.\u001b[39mlazy(\u001b[38;5;241m*\u001b[39margs, \u001b[38;5;241m*\u001b[39m\u001b[38;5;241m*\u001b[39mkwargs)\n\u001b[0;32m---> 42\u001b[0m     result \u001b[38;5;241m=\u001b[39m \u001b[38;5;28;43mself\u001b[39;49m\u001b[38;5;241;43m.\u001b[39;49m\u001b[43m_channel\u001b[49m\u001b[38;5;241;43m.\u001b[39;49m\u001b[43msend\u001b[49m\u001b[43m(\u001b[49m\u001b[43mcommand\u001b[49m\u001b[43m)\u001b[49m\n\u001b[1;32m     44\u001b[0m     \u001b[38;5;28;01mreturn\u001b[39;00m \u001b[38;5;28mself\u001b[39m\u001b[38;5;241m.\u001b[39m_translate\u001b[38;5;241m.\u001b[39mdecode(result)\n",
      "File \u001b[0;32m~/.conda/envs/CadenceEnv/lib/python3.12/site-packages/skillbridge/client/channel.py:158\u001b[0m, in \u001b[0;36mTcpChannel.send\u001b[0;34m(self, data)\u001b[0m\n\u001b[1;32m    156\u001b[0m \u001b[38;5;28;01mdef\u001b[39;00m \u001b[38;5;21msend\u001b[39m(\u001b[38;5;28mself\u001b[39m, data: \u001b[38;5;28mstr\u001b[39m) \u001b[38;5;241m-\u001b[39m\u001b[38;5;241m>\u001b[39m \u001b[38;5;28mstr\u001b[39m:\n\u001b[1;32m    157\u001b[0m     \u001b[38;5;28mself\u001b[39m\u001b[38;5;241m.\u001b[39m_send_only(data)\n\u001b[0;32m--> 158\u001b[0m     \u001b[38;5;28;01mreturn\u001b[39;00m \u001b[38;5;28;43mself\u001b[39;49m\u001b[38;5;241;43m.\u001b[39;49m\u001b[43m_receive_only\u001b[49m\u001b[43m(\u001b[49m\u001b[43m)\u001b[49m\n",
      "File \u001b[0;32m~/.conda/envs/CadenceEnv/lib/python3.12/site-packages/skillbridge/client/channel.py:154\u001b[0m, in \u001b[0;36mTcpChannel._receive_only\u001b[0;34m(self)\u001b[0m\n\u001b[1;32m    151\u001b[0m received_length \u001b[38;5;241m=\u001b[39m \u001b[38;5;28mint\u001b[39m(received_length_raw)\n\u001b[1;32m    152\u001b[0m response \u001b[38;5;241m=\u001b[39m \u001b[38;5;124mb\u001b[39m\u001b[38;5;124m'\u001b[39m\u001b[38;5;124m'\u001b[39m\u001b[38;5;241m.\u001b[39mjoin(\u001b[38;5;28mself\u001b[39m\u001b[38;5;241m.\u001b[39m_receive_all(received_length))\u001b[38;5;241m.\u001b[39mdecode()\n\u001b[0;32m--> 154\u001b[0m \u001b[38;5;28;01mreturn\u001b[39;00m \u001b[38;5;28;43mself\u001b[39;49m\u001b[38;5;241;43m.\u001b[39;49m\u001b[43mdecode_response\u001b[49m\u001b[43m(\u001b[49m\u001b[43mresponse\u001b[49m\u001b[43m)\u001b[49m\n",
      "File \u001b[0;32m~/.conda/envs/CadenceEnv/lib/python3.12/site-packages/skillbridge/client/channel.py:48\u001b[0m, in \u001b[0;36mChannel.decode_response\u001b[0;34m(response)\u001b[0m\n\u001b[1;32m     43\u001b[0m     \u001b[38;5;28;01mif\u001b[39;00m response \u001b[38;5;241m==\u001b[39m \u001b[38;5;124m'\u001b[39m\u001b[38;5;124m<timeout>\u001b[39m\u001b[38;5;124m'\u001b[39m:\n\u001b[1;32m     44\u001b[0m         \u001b[38;5;28;01mraise\u001b[39;00m \u001b[38;5;167;01mRuntimeError\u001b[39;00m(\n\u001b[1;32m     45\u001b[0m             \u001b[38;5;124m\"\u001b[39m\u001b[38;5;124mTimeout: you should restart the skill server and \u001b[39m\u001b[38;5;124m\"\u001b[39m\n\u001b[1;32m     46\u001b[0m             \u001b[38;5;124m\"\u001b[39m\u001b[38;5;124mincrease the timeout `pyStartServer ?timeout X`.\u001b[39m\u001b[38;5;124m\"\u001b[39m,\n\u001b[1;32m     47\u001b[0m         )\n\u001b[0;32m---> 48\u001b[0m     \u001b[38;5;28;01mraise\u001b[39;00m \u001b[38;5;167;01mRuntimeError\u001b[39;00m(response)\n\u001b[1;32m     49\u001b[0m \u001b[38;5;28;01mreturn\u001b[39;00m response\n",
      "\u001b[0;31mRuntimeError\u001b[0m: (\"hiCloseWindow\" 0 t nil (\"*Error* hiCloseWindow: argument #1 should be a window type (type template = \\\"w\\\")\" nil))\n"
     ]
    }
   ],
   "source": [
    "import time, os\n",
    "from EMXSimulator import EMXSimulator as sim\n",
    "\n",
    "# figure out which window number the emx window will pop up as in order to close after running a test\n",
    "EMX_WINDOW_NUMBER=441\n",
    "\n",
    "# Initialize Simulator\n",
    "Simulator = sim(\"server-1\")\n",
    "# create first random structure\n",
    "Simulator.create_random_structure()\n",
    "# Create pins\n",
    "Simulator.create_pins()\n",
    "\n",
    "# Run 1000 emx simulations, deleting and reinitializing a random structure each time\n",
    "trials = 10000\n",
    "# for naming files\n",
    "start_num = 382\n",
    "\n",
    "for i in range(trials):\n",
    "    print(\"Starting Simulation #{}. \".format(i))\n",
    "    t = time.localtime()\n",
    "    current_time = time.strftime(\"%H:%M:%S\", t)\n",
    "    print(current_time)\n",
    "    \n",
    "    # run emx, creates sparam file\n",
    "    Simulator.run_emx()\n",
    "\n",
    "    # wait for s_param_file to be 1139 lines (kinda hacky, but this ensures that the simulation has completed\n",
    "    line_count = 0\n",
    "    while line_count < 1139:\n",
    "        time.sleep(0.5) # give emx time to create sparam file. Might be better way if this ends up failing\n",
    "        try:\n",
    "            s_param_file = open(\"/home/sbfisher/Cadence/9HPsetup/EMX_work/Thesis_test.work/test.s8p\", \"r\")\n",
    "            lines = s_param_file.readlines()\n",
    "            line_count = len(lines)\n",
    "            s_param_file.close()\n",
    "        except FileNotFoundError:\n",
    "            print(\"s param file not created yet. Failing gracefully\")\n",
    "        # else:\n",
    "        #     print(\"other error when reading sparam file\")\n",
    "       \n",
    "    # move completed sparam file to data folder\n",
    "    os.rename(\"/home/sbfisher/Cadence/9HPsetup/EMX_work/Thesis_test.work/test.s8p\", \"/home/sbfisher/Cadence/Thesis/PythonCode/EMX_Results/trial_{}_data.s8p\".format(i+start_num));\n",
    "    # Create a file with the form of the structure and store\n",
    "    Simulator.create_struct_file(\"/home/sbfisher/Cadence/Thesis/PythonCode/EMX_Results/trial_{}_struct.txt\".format(i+start_num))\n",
    "\n",
    "    # delete current random structre and create new one\n",
    "    Simulator.delete_structure()\n",
    "    Simulator.create_random_structure()\n",
    "\n",
    "    # Close EMX sim window\n",
    "    Simulator.close_window(EMX_WINDOW_NUMBER+i)\n",
    "    \n",
    "\n",
    "    # Figure out which window number you are currently on for this\n",
    "    print(\"Completed Simulation #{}\".format(i))\n",
    "    t = time.localtime()\n",
    "    current_time = time.strftime(\"%H:%M:%S\", t)\n",
    "    print(current_time)\n",
    "    print()\n",
    "\n"
   ]
  },
  {
   "cell_type": "code",
   "execution_count": 2,
   "id": "b708d365-af6d-4bb6-92d4-71ad07361822",
   "metadata": {},
   "outputs": [],
   "source": [
    "# import skrf as rf\n",
    "# useful for reading from sparam files\n",
    "# ntwk = rf.Network('/home/sbfisher/Cadence/9HPsetup/EMX_work/Thesis_test.work/test.s8p')\n",
    "# print(ntwk)\n",
    "# s = ntwk.s"
   ]
  },
  {
   "cell_type": "code",
   "execution_count": null,
   "id": "76513557-bc04-4704-9e21-c19e7336ba61",
   "metadata": {},
   "outputs": [],
   "source": [
    "# get time of initial Sparam file, compare with most recently created one to make sure it hasn't already been \n",
    "    # read\n",
    "    # s_param_file = open(\"/home/sbfisher/Cadence/9HPsetup/EMX_work/Thesis_test.work/test.s8p\", \"r\")\n",
    "    # lines = s_param_file.readlines()\n",
    "    # last_date = lines[1]\n",
    "    # if last_date == new_date:\n",
    "        \n",
    "    # s_param_file.close()\n",
    "    # new_time = False\n",
    "    \"\"\"\n",
    "    Potential structure for the loop if this doesn't work\n",
    "    load initial date before the loop starts\n",
    "    then in a while loop with delay 0.5:\n",
    "        while date hasn't changed from previous, keep reading file\n",
    "        once date changes, go into new while loop:\n",
    "            Here, read the new sparam file until lines reach 1139 (just current loop)\n",
    "    \"\"\""
   ]
  }
 ],
 "metadata": {
  "kernelspec": {
   "display_name": "Python 3 (ipykernel)",
   "language": "python",
   "name": "python3"
  },
  "language_info": {
   "codemirror_mode": {
    "name": "ipython",
    "version": 3
   },
   "file_extension": ".py",
   "mimetype": "text/x-python",
   "name": "python",
   "nbconvert_exporter": "python",
   "pygments_lexer": "ipython3",
   "version": "3.12.0"
  }
 },
 "nbformat": 4,
 "nbformat_minor": 5
}
