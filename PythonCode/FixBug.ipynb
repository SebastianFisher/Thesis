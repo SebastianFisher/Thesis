{
 "cells": [
  {
   "cell_type": "code",
   "execution_count": 1,
   "id": "2f9d51ab-863f-46b5-8fad-d19106944551",
   "metadata": {},
   "outputs": [],
   "source": [
    "import os, shutil"
   ]
  },
  {
   "cell_type": "code",
   "execution_count": 37,
   "id": "e9c305f4-b247-4397-aa9d-4aa9998eb5de",
   "metadata": {},
   "outputs": [
    {
     "name": "stdout",
     "output_type": "stream",
     "text": [
      "21612\n"
     ]
    },
    {
     "data": {
      "application/vnd.jupyter.widget-view+json": {
       "model_id": "8a455585f85a413e8e0a37fd74ed8a62",
       "version_major": 2,
       "version_minor": 0
      },
      "text/plain": [
       "  0%|          | 0/21612 [00:00<?, ?it/s]"
      ]
     },
     "metadata": {},
     "output_type": "display_data"
    },
    {
     "name": "stdout",
     "output_type": "stream",
     "text": [
      "dest file exists already but it shouldn't\n",
      "Files moved: 21602\n"
     ]
    }
   ],
   "source": [
    "from tqdm.auto import tqdm\n",
    "PATH = \"/scratch/gpfs/sbfisher/\"\n",
    "RESULTS_PATH = \"/scratch/gpfs/sbfisher/Test_Results250x300/\"\n",
    "if not os.path.exists(RESULTS_PATH):\n",
    "    os.makedirs(RESULTS_PATH)\n",
    "print(len(os.listdir(PATH)))\n",
    "\n",
    "\n",
    "count = 0\n",
    "for filename in tqdm(os.listdir(PATH)):\n",
    "    if \"Test_Results250x300\" in filename:\n",
    "        if os.path.isfile(PATH + filename):\n",
    "            count += 1\n",
    "            new_name = filename.split(\"Test_Results250x300\")[1]\n",
    "            src = PATH + filename\n",
    "            dest = RESULTS_PATH + new_name\n",
    "            if os.path.exists(dest):\n",
    "                print(\"dest file exists already but it shouldn't\")\n",
    "            shutil.copy(src, dest)\n",
    "            \n",
    "print(\"Files moved: \" + str(count))"
   ]
  }
 ],
 "metadata": {
  "kernelspec": {
   "display_name": "Python 3 (ipykernel)",
   "language": "python",
   "name": "python3"
  },
  "language_info": {
   "codemirror_mode": {
    "name": "ipython",
    "version": 3
   },
   "file_extension": ".py",
   "mimetype": "text/x-python",
   "name": "python",
   "nbconvert_exporter": "python",
   "pygments_lexer": "ipython3",
   "version": "3.12.0"
  }
 },
 "nbformat": 4,
 "nbformat_minor": 5
}
