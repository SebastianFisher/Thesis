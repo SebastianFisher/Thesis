{
 "cells": [
  {
   "cell_type": "code",
   "execution_count": 5,
   "id": "f6fe4337-0e76-478f-9a75-ed3442231eb4",
   "metadata": {},
   "outputs": [
    {
     "name": "stdout",
     "output_type": "stream",
     "text": [
      "39106\n"
     ]
    }
   ],
   "source": [
    "import os\n",
    "\n",
    "# check size of data directory being added to\n",
    "DATA_DIR = \"/scratch/gpfs/sbfisher/Test_Results250x300/\"\n",
    "print(len(os.listdir(DATA_DIR)))"
   ]
  },
  {
   "cell_type": "code",
   "execution_count": null,
   "id": "3a77dcb7-59bf-4c4e-8711-26f6e249ebb6",
   "metadata": {},
   "outputs": [],
   "source": []
  }
 ],
 "metadata": {
  "kernelspec": {
   "display_name": "Python 3 (ipykernel)",
   "language": "python",
   "name": "python3"
  },
  "language_info": {
   "codemirror_mode": {
    "name": "ipython",
    "version": 3
   },
   "file_extension": ".py",
   "mimetype": "text/x-python",
   "name": "python",
   "nbconvert_exporter": "python",
   "pygments_lexer": "ipython3",
   "version": "3.12.0"
  }
 },
 "nbformat": 4,
 "nbformat_minor": 5
}
